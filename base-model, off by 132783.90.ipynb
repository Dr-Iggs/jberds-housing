{
  "cells": [
    {
      "cell_type": "code",
      "execution_count": 1,
      "metadata": {
        "id": "mA0HPVmIBT4C"
      },
      "outputs": [],
      "source": [
        "import pandas as pd\n",
        "import string as str\n",
        "import seaborn as sns\n",
        "import matplotlib.pylab as plt\n",
        "\n",
        "housing = pd.read_csv('https://raw.githubusercontent.com/byui-cse/cse450-course/master/data/housing.csv')\n",
        "from xgboost import XGBRegressor\n",
        "from sklearn.model_selection import train_test_split"
      ]
    },
    {
      "cell_type": "code",
      "execution_count": 2,
      "metadata": {
        "colab": {
          "base_uri": "https://localhost:8080/"
        },
        "id": "StiU5QcPPxqQ",
        "outputId": "3ba5e0f4-542a-4960-8552-4008903c5cf3"
      },
      "outputs": [
        {
          "data": {
            "text/plain": [
              "98103    563\n",
              "98038    550\n",
              "98052    536\n",
              "98115    530\n",
              "98117    521\n",
              "        ... \n",
              "98109     99\n",
              "98010     90\n",
              "98024     78\n",
              "98148     49\n",
              "98039     46\n",
              "Name: zipcode, Length: 70, dtype: int64"
            ]
          },
          "execution_count": 2,
          "metadata": {},
          "output_type": "execute_result"
        }
      ],
      "source": [
        "housing.zipcode.value_counts() #70 zip codes"
      ]
    },
    {
      "cell_type": "code",
      "execution_count": 3,
      "metadata": {
        "colab": {
          "base_uri": "https://localhost:8080/",
          "height": 351
        },
        "id": "-JGac_7xQjny",
        "outputId": "bba30e33-e789-40ee-c14d-ce0fb80bde99"
      },
      "outputs": [],
      "source": [
        "def fix_data(housing):\n",
        "  housing['date'] = housing.date.str.extract(r\"(\\d{8})\").astype(int)\n",
        "  #housing['zipcode'] = housing.zipcode.astype(str) get_dummies instead\n",
        "  return housing\n",
        "\n",
        "housing = fix_data(housing)"
      ]
    },
    {
      "cell_type": "code",
      "execution_count": 4,
      "metadata": {
        "id": "ALLMN63FPyEQ"
      },
      "outputs": [],
      "source": [
        "\n",
        "Y = housing.price\n",
        "X = housing.drop(['price'],axis=1)\n",
        "X_train1, X_test1, Y_train, Y_test = train_test_split(X, Y, test_size=0.2, random_state=42)\n",
        "X_train = X_train1.drop('zipcode',axis=1)\n",
        "X_test = X_test1.drop('zipcode',axis=1)\n",
        "\n",
        "#Fix date\n",
        "\n",
        "model = XGBRegressor()\n",
        "model.fit(X_train, Y_train)\n",
        "predictions = model.predict(X_test)\n",
        "scoring = Y_test - predictions"
      ]
    },
    {
      "cell_type": "code",
      "execution_count": 5,
      "metadata": {
        "colab": {
          "base_uri": "https://localhost:8080/"
        },
        "id": "RnGBwGVZPyyh",
        "outputId": "7667ad20-be09-44aa-fd51-50ad9ebf1f0d"
      },
      "outputs": [
        {
          "data": {
            "text/plain": [
              "138227.35418601218"
            ]
          },
          "execution_count": 5,
          "metadata": {},
          "output_type": "execute_result"
        }
      ],
      "source": [
        "from sklearn.metrics import mean_squared_error\n",
        "\n",
        "mean_squared_error(Y_test, predictions, squared=False)\n"
      ]
    },
    {
      "cell_type": "code",
      "execution_count": 6,
      "metadata": {
        "colab": {
          "base_uri": "https://localhost:8080/"
        },
        "id": "CVSfaqgKPzE2",
        "outputId": "2e3c0c7b-81cc-470c-f43c-44c4142fade5"
      },
      "outputs": [
        {
          "data": {
            "text/plain": [
              "0.8733125015903777"
            ]
          },
          "execution_count": 6,
          "metadata": {},
          "output_type": "execute_result"
        }
      ],
      "source": [
        "from sklearn.metrics import r2_score\n",
        "r2_score(Y_test,predictions)"
      ]
    },
    {
      "cell_type": "code",
      "execution_count": 16,
      "metadata": {},
      "outputs": [
        {
          "data": {
            "text/plain": [
              "231770.31249999997"
            ]
          },
          "execution_count": 16,
          "metadata": {},
          "output_type": "execute_result"
        }
      ],
      "source": [
        "(abs(Y_test-predictions)/Y_test).quantile(.95) #Average % distance from true\n",
        "abs(Y_test-predictions).quantile(.95)"
      ]
    },
    {
      "cell_type": "code",
      "execution_count": 62,
      "metadata": {},
      "outputs": [
        {
          "data": {
            "text/plain": [
              "(array([0, 1, 2, 3, 4]),\n",
              " [Text(0, 0, '98004'),\n",
              "  Text(1, 0, '98039'),\n",
              "  Text(2, 0, '98040'),\n",
              "  Text(3, 0, '98109'),\n",
              "  Text(4, 0, '98166')])"
            ]
          },
          "execution_count": 62,
          "metadata": {},
          "output_type": "execute_result"
        },
        {
          "data": {
            "image/png": "[encoded data removed]",
            "text/plain": [
              "<Figure size 432x288 with 1 Axes>"
            ]
          },
          "metadata": {
            "needs_background": "light"
          },
          "output_type": "display_data"
        }
      ],
      "source": [
        "\n",
        "equality = pd.concat([Y_test-predictions,X_test1.zipcode],axis=1).groupby('zipcode').median().reset_index().sort_values('price',ascending=False)\n",
        "# The 5 zip codes where our model most consistently underestimates \n",
        "sns.barplot(data=equality.head(),x='zipcode',y='price')\n",
        "plt.xticks(rotation=45)\n"
      ]
    },
    {
      "cell_type": "code",
      "execution_count": 63,
      "metadata": {},
      "outputs": [
        {
          "data": {
            "text/html": [
              "<div>\n",
              "<style scoped>\n",
              "    .dataframe tbody tr th:only-of-type {\n",
              "        vertical-align: middle;\n",
              "    }\n",
              "\n",
              "    .dataframe tbody tr th {\n",
              "        vertical-align: top;\n",
              "    }\n",
              "\n",
              "    .dataframe thead th {\n",
              "        text-align: right;\n",
              "    }\n",
              "</style>\n",
              "<table border=\"1\" class=\"dataframe\">\n",
              "  <thead>\n",
              "    <tr style=\"text-align: right;\">\n",
              "      <th></th>\n",
              "      <th>id</th>\n",
              "      <th>date</th>\n",
              "      <th>bedrooms</th>\n",
              "      <th>bathrooms</th>\n",
              "      <th>sqft_living</th>\n",
              "      <th>sqft_lot</th>\n",
              "      <th>floors</th>\n",
              "      <th>waterfront</th>\n",
              "      <th>view</th>\n",
              "      <th>condition</th>\n",
              "      <th>grade</th>\n",
              "      <th>sqft_above</th>\n",
              "      <th>sqft_basement</th>\n",
              "      <th>yr_built</th>\n",
              "      <th>yr_renovated</th>\n",
              "      <th>zipcode</th>\n",
              "      <th>lat</th>\n",
              "      <th>long</th>\n",
              "      <th>sqft_living15</th>\n",
              "      <th>sqft_lot15</th>\n",
              "    </tr>\n",
              "  </thead>\n",
              "  <tbody>\n",
              "    <tr>\n",
              "      <th>10462</th>\n",
              "      <td>5427100150</td>\n",
              "      <td>20140626</td>\n",
              "      <td>4</td>\n",
              "      <td>2.25</td>\n",
              "      <td>3250</td>\n",
              "      <td>16684</td>\n",
              "      <td>2.0</td>\n",
              "      <td>0</td>\n",
              "      <td>0</td>\n",
              "      <td>3</td>\n",
              "      <td>9</td>\n",
              "      <td>3250</td>\n",
              "      <td>0</td>\n",
              "      <td>1979</td>\n",
              "      <td>0</td>\n",
              "      <td>98039</td>\n",
              "      <td>47.6334</td>\n",
              "      <td>-122.229</td>\n",
              "      <td>2890</td>\n",
              "      <td>16927</td>\n",
              "    </tr>\n",
              "    <tr>\n",
              "      <th>5814</th>\n",
              "      <td>3625049079</td>\n",
              "      <td>20140801</td>\n",
              "      <td>3</td>\n",
              "      <td>2.00</td>\n",
              "      <td>2070</td>\n",
              "      <td>9600</td>\n",
              "      <td>1.0</td>\n",
              "      <td>0</td>\n",
              "      <td>1</td>\n",
              "      <td>3</td>\n",
              "      <td>7</td>\n",
              "      <td>1590</td>\n",
              "      <td>480</td>\n",
              "      <td>1946</td>\n",
              "      <td>0</td>\n",
              "      <td>98039</td>\n",
              "      <td>47.6160</td>\n",
              "      <td>-122.239</td>\n",
              "      <td>3000</td>\n",
              "      <td>16215</td>\n",
              "    </tr>\n",
              "    <tr>\n",
              "      <th>4546</th>\n",
              "      <td>3262300485</td>\n",
              "      <td>20150421</td>\n",
              "      <td>5</td>\n",
              "      <td>5.25</td>\n",
              "      <td>3410</td>\n",
              "      <td>8118</td>\n",
              "      <td>2.0</td>\n",
              "      <td>0</td>\n",
              "      <td>0</td>\n",
              "      <td>3</td>\n",
              "      <td>11</td>\n",
              "      <td>3410</td>\n",
              "      <td>0</td>\n",
              "      <td>2006</td>\n",
              "      <td>0</td>\n",
              "      <td>98039</td>\n",
              "      <td>47.6295</td>\n",
              "      <td>-122.236</td>\n",
              "      <td>3410</td>\n",
              "      <td>16236</td>\n",
              "    </tr>\n",
              "    <tr>\n",
              "      <th>4043</th>\n",
              "      <td>2525049259</td>\n",
              "      <td>20140812</td>\n",
              "      <td>4</td>\n",
              "      <td>4.50</td>\n",
              "      <td>4240</td>\n",
              "      <td>13162</td>\n",
              "      <td>2.0</td>\n",
              "      <td>0</td>\n",
              "      <td>0</td>\n",
              "      <td>3</td>\n",
              "      <td>10</td>\n",
              "      <td>4240</td>\n",
              "      <td>0</td>\n",
              "      <td>2004</td>\n",
              "      <td>0</td>\n",
              "      <td>98039</td>\n",
              "      <td>47.6193</td>\n",
              "      <td>-122.229</td>\n",
              "      <td>3010</td>\n",
              "      <td>12163</td>\n",
              "    </tr>\n",
              "    <tr>\n",
              "      <th>8822</th>\n",
              "      <td>2525049263</td>\n",
              "      <td>20140709</td>\n",
              "      <td>5</td>\n",
              "      <td>3.00</td>\n",
              "      <td>4290</td>\n",
              "      <td>20445</td>\n",
              "      <td>2.0</td>\n",
              "      <td>0</td>\n",
              "      <td>0</td>\n",
              "      <td>4</td>\n",
              "      <td>11</td>\n",
              "      <td>4290</td>\n",
              "      <td>0</td>\n",
              "      <td>1985</td>\n",
              "      <td>0</td>\n",
              "      <td>98039</td>\n",
              "      <td>47.6217</td>\n",
              "      <td>-122.239</td>\n",
              "      <td>3620</td>\n",
              "      <td>22325</td>\n",
              "    </tr>\n",
              "    <tr>\n",
              "      <th>8374</th>\n",
              "      <td>2210500019</td>\n",
              "      <td>20150324</td>\n",
              "      <td>3</td>\n",
              "      <td>1.00</td>\n",
              "      <td>1320</td>\n",
              "      <td>8500</td>\n",
              "      <td>1.0</td>\n",
              "      <td>0</td>\n",
              "      <td>0</td>\n",
              "      <td>4</td>\n",
              "      <td>7</td>\n",
              "      <td>1320</td>\n",
              "      <td>0</td>\n",
              "      <td>1954</td>\n",
              "      <td>0</td>\n",
              "      <td>98039</td>\n",
              "      <td>47.6187</td>\n",
              "      <td>-122.226</td>\n",
              "      <td>2790</td>\n",
              "      <td>10800</td>\n",
              "    </tr>\n",
              "  </tbody>\n",
              "</table>\n",
              "</div>"
            ],
            "text/plain": [
              "               id      date  bedrooms  bathrooms  sqft_living  sqft_lot  \\\n",
              "10462  5427100150  20140626         4       2.25         3250     16684   \n",
              "5814   3625049079  20140801         3       2.00         2070      9600   \n",
              "4546   3262300485  20150421         5       5.25         3410      8118   \n",
              "4043   2525049259  20140812         4       4.50         4240     13162   \n",
              "8822   2525049263  20140709         5       3.00         4290     20445   \n",
              "8374   2210500019  20150324         3       1.00         1320      8500   \n",
              "\n",
              "       floors  waterfront  view  condition  grade  sqft_above  sqft_basement  \\\n",
              "10462     2.0           0     0          3      9        3250              0   \n",
              "5814      1.0           0     1          3      7        1590            480   \n",
              "4546      2.0           0     0          3     11        3410              0   \n",
              "4043      2.0           0     0          3     10        4240              0   \n",
              "8822      2.0           0     0          4     11        4290              0   \n",
              "8374      1.0           0     0          4      7        1320              0   \n",
              "\n",
              "       yr_built  yr_renovated  zipcode      lat     long  sqft_living15  \\\n",
              "10462      1979             0    98039  47.6334 -122.229           2890   \n",
              "5814       1946             0    98039  47.6160 -122.239           3000   \n",
              "4546       2006             0    98039  47.6295 -122.236           3410   \n",
              "4043       2004             0    98039  47.6193 -122.229           3010   \n",
              "8822       1985             0    98039  47.6217 -122.239           3620   \n",
              "8374       1954             0    98039  47.6187 -122.226           2790   \n",
              "\n",
              "       sqft_lot15  \n",
              "10462       16927  \n",
              "5814        16215  \n",
              "4546        16236  \n",
              "4043        12163  \n",
              "8822        22325  \n",
              "8374        10800  "
            ]
          },
          "execution_count": 63,
          "metadata": {},
          "output_type": "execute_result"
        }
      ],
      "source": [
        "X_test1.query('zipcode == 98039')"
      ]
    }
  ],
  "metadata": {
    "colab": {
      "name": "starter_housing.ipynb",
      "provenance": []
    },
    "kernelspec": {
      "display_name": "Python 3",
      "name": "python3"
    },
    "language_info": {
      "codemirror_mode": {
        "name": "ipython",
        "version": 3
      },
      "file_extension": ".py",
      "mimetype": "text/x-python",
      "name": "python",
      "nbconvert_exporter": "python",
      "pygments_lexer": "ipython3",
      "version": "3.10.4"
    }
  },
  "nbformat": 4,
  "nbformat_minor": 0
}
