{
  "cells": [
    {
      "cell_type": "code",
      "execution_count": 17,
      "metadata": {
        "id": "mA0HPVmIBT4C"
      },
      "outputs": [],
      "source": [
        "import pandas as pd\n",
        "from sklearn.preprocessing import MinMaxScaler\n",
        "import seaborn as sns\n",
        "import math\n",
        "import requests\n",
        "from io import StringIO\n",
        "import numpy as np\n",
        "from datetime import datetime\n",
        "import matplotlib as plt\n",
        "\n",
        "\n",
        "housing = pd.read_csv('https://raw.githubusercontent.com/byui-cse/cse450-course/master/data/housing.csv')\n",
        "holdout = pd.read_csv('https://raw.githubusercontent.com/byui-cse/cse450-course/master/data/housing_holdout_test_mini.csv')\n",
        "from xgboost import XGBRegressor\n",
        "from sklearn.model_selection import train_test_split\n",
        "from sklearn.model_selection import GridSearchCV"
      ]
    },
    {
      "cell_type": "code",
      "execution_count": 27,
      "metadata": {
        "colab": {
          "base_uri": "https://localhost:8080/",
          "height": 351
        },
        "id": "-JGac_7xQjny",
        "outputId": "bba30e33-e789-40ee-c14d-ce0fb80bde99"
      },
      "outputs": [
        {
          "name": "stdout",
          "output_type": "stream",
          "text": [
            "Mean Squared Error:  125845.27289419805 \n",
            "R^2:  0.8879861419745849 \n",
            "95% of home estimates are within 36.47 % of their most recent value \n",
            "95% of home estimates are within $ 222320.91 of their most recent value\n"
          ]
        },
        {
          "data": {
            "text/plain": [
              "[Text(0.5, 1.0, 'OLD: Zip Codes with the Worst Performance'),\n",
              " Text(0, 0.5, 'What % Higher our Model Prices them')]"
            ]
          },
          "execution_count": 27,
          "metadata": {},
          "output_type": "execute_result"
        },
        {
          "data": {
            "image/png": "[encoded data removed]",
            "text/plain": [
              "<Figure size 432x288 with 1 Axes>"
            ]
          },
          "metadata": {
            "needs_background": "light"
          },
          "output_type": "display_data"
        }
      ],
      "source": [
        "print(\"Mean Squared Error: \", mean_squared_error(Y_test, predictions, squared=False), \n",
        "            \"\\nR^2: \", r2_score(Y_test,predictions),\n",
        "            \"\\n95% of home estimates are within\", round((abs(Y_test-predictions)/Y_test).quantile(.95)*100,2), \"% of their most recent value\",\n",
        "            \"\\n95% of home estimates are within $\", round(abs(Y_test-predictions).quantile(.95),2), \"of their most recent value\")\n",
        "\n",
        "\n",
        "weights = np.where(Y_train < 400000, 2, 1)\n",
        "#check\n",
        "equality = pd.concat([(predictions-Y_test)/Y_test*100,X_test1.zipcode],axis=1).groupby('zipcode').median().reset_index()\n",
        "equality['abs_price'] =equality.price.abs()\n",
        "equality = equality.sort_values('abs_price',ascending=False)\n",
        "# The 5 zip codes where our model most consistently under- or over- estimates \n",
        "sns.barplot(data=equality.head(),x='zipcode',y='price').set(title='OLD: Zip Codes with the Worst Performance',\n",
        "                                                            ylabel='What % Higher our Model Prices them')\n",
        "\n"
      ]
    },
    {
      "cell_type": "code",
      "execution_count": 18,
      "metadata": {
        "id": "ALLMN63FPyEQ"
      },
      "outputs": [],
      "source": [
        "housing= normalized_irs_housing.drop('date',axis=1)\n",
        "Y = housing.price\n",
        "X = housing.drop(['price'],axis=1)\n",
        "X_train1, X_test1, Y_train, Y_test = train_test_split(X, Y, test_size=0.4, random_state=42)\n",
        "X_train = X_train1.drop('zipcode',axis=1)\n",
        "X_test = X_test1.drop('zipcode',axis=1)\n",
        "\n",
        "\n",
        "\n",
        "model = XGBRegressor(max_depth=5)\n",
        "model.fit(X_train1, Y_train, sample_weight=weights)\n",
        "predictions = model.predict(X_test1)\n",
        "scoring = Y_test - predictions\n",
        "\n"
      ]
    },
    {
      "cell_type": "code",
      "execution_count": null,
      "metadata": {},
      "outputs": [],
      "source": [
        "\n",
        "model.predict(fix_data(holdout).drop('zipcode',axis=1))\n",
        "#holdout.drop('zipcode').head()"
      ]
    },
    {
      "cell_type": "code",
      "execution_count": 13,
      "metadata": {
        "colab": {
          "base_uri": "https://localhost:8080/"
        },
        "id": "RnGBwGVZPyyh",
        "outputId": "7667ad20-be09-44aa-fd51-50ad9ebf1f0d"
      },
      "outputs": [
        {
          "data": {
            "text/plain": [
              "125845.27289419805"
            ]
          },
          "execution_count": 13,
          "metadata": {},
          "output_type": "execute_result"
        }
      ],
      "source": [
        "from sklearn.metrics import mean_squared_error\n",
        "\n",
        "mean_squared_error(Y_test, predictions, squared=False)\n"
      ]
    },
    {
      "cell_type": "code",
      "execution_count": 25,
      "metadata": {
        "colab": {
          "base_uri": "https://localhost:8080/"
        },
        "id": "CVSfaqgKPzE2",
        "outputId": "2e3c0c7b-81cc-470c-f43c-44c4142fade5"
      },
      "outputs": [
        {
          "data": {
            "text/plain": [
              "<AxesSubplot: xlabel='price', ylabel='Count'>"
            ]
          },
          "execution_count": 25,
          "metadata": {},
          "output_type": "execute_result"
        },
        {
          "data": {
            "image/png": "[encoded data removed]",
            "text/plain": [
              "<Figure size 432x288 with 1 Axes>"
            ]
          },
          "metadata": {
            "needs_background": "light"
          },
          "output_type": "display_data"
        }
      ],
      "source": [
        "from sklearn.metrics import r2_score\n",
        "sns.histplot(x=Y_test-predictions)"
      ]
    },
    {
      "cell_type": "code",
      "execution_count": 23,
      "metadata": {},
      "outputs": [
        {
          "name": "stdout",
          "output_type": "stream",
          "text": [
            "Mean Squared Error:  125845.27289419805 \n",
            " R^2:  0.8879861419745849 \n",
            "95% of home estimates are within 36.47 % of their most recent value \n",
            "95% of home estimates are within $ 222320.91 of their most recent value\n",
            "95% of home estimates are within 36.47 % of their most recent value\n"
          ]
        }
      ],
      "source": [
        "print(\"Mean Squared Error: \", mean_squared_error(Y_test, predictions, squared=False), \n",
        "            \"\\nR^2: \", r2_score(Y_test,predictions),\n",
        "            \"\\n95% of home estimates are within\", round((abs(Y_test-predictions)/Y_test).quantile(.95)*100,2), \"% of their most recent value\",\n",
        "            \"\\n95% of home estimates are within $\", round(abs(Y_test-predictions).quantile(.95),2), \"of their most recent value\")\n"
      ]
    },
    {
      "cell_type": "code",
      "execution_count": 24,
      "metadata": {},
      "outputs": [
        {
          "ename": "AttributeError",
          "evalue": "module 'matplotlib' has no attribute 'xticks'",
          "output_type": "error",
          "traceback": [
            "\u001b[1;31m---------------------------------------------------------------------------\u001b[0m",
            "\u001b[1;31mAttributeError\u001b[0m                            Traceback (most recent call last)",
            "\u001b[1;32mc:\\Users\\spenc\\Documents\\GitHub\\jberds-housing\\base-model, off by 132783.90.ipynb Cell 8\u001b[0m in \u001b[0;36m<cell line: 7>\u001b[1;34m()\u001b[0m\n\u001b[0;32m      <a href='vscode-notebook-cell:/c%3A/Users/spenc/Documents/GitHub/jberds-housing/base-model%2C%20off%20by%20132783.90.ipynb#X10sZmlsZQ%3D%3D?line=3'>4</a>\u001b[0m \u001b[39m# The 5 zip codes where our model most consistently underestimates \u001b[39;00m\n\u001b[0;32m      <a href='vscode-notebook-cell:/c%3A/Users/spenc/Documents/GitHub/jberds-housing/base-model%2C%20off%20by%20132783.90.ipynb#X10sZmlsZQ%3D%3D?line=4'>5</a>\u001b[0m sns\u001b[39m.\u001b[39mbarplot(data\u001b[39m=\u001b[39mequality\u001b[39m.\u001b[39mhead(),x\u001b[39m=\u001b[39m\u001b[39m'\u001b[39m\u001b[39mzipcode\u001b[39m\u001b[39m'\u001b[39m,y\u001b[39m=\u001b[39m\u001b[39m'\u001b[39m\u001b[39mprice\u001b[39m\u001b[39m'\u001b[39m)\u001b[39m.\u001b[39mset(title\u001b[39m=\u001b[39m\u001b[39m'\u001b[39m\u001b[39mOLD: Zip Codes with the Worst Performance\u001b[39m\u001b[39m'\u001b[39m,\n\u001b[0;32m      <a href='vscode-notebook-cell:/c%3A/Users/spenc/Documents/GitHub/jberds-housing/base-model%2C%20off%20by%20132783.90.ipynb#X10sZmlsZQ%3D%3D?line=5'>6</a>\u001b[0m                                                             ylabel\u001b[39m=\u001b[39m\u001b[39m'\u001b[39m\u001b[39mWhat \u001b[39m\u001b[39m%\u001b[39m\u001b[39m Higher our Model Prices them\u001b[39m\u001b[39m'\u001b[39m)\n\u001b[1;32m----> <a href='vscode-notebook-cell:/c%3A/Users/spenc/Documents/GitHub/jberds-housing/base-model%2C%20off%20by%20132783.90.ipynb#X10sZmlsZQ%3D%3D?line=6'>7</a>\u001b[0m plt\u001b[39m.\u001b[39;49mxticks(rotation\u001b[39m=\u001b[39m\u001b[39m45\u001b[39m)\n",
            "File \u001b[1;32mc:\\Users\\spenc\\AppData\\Local\\Programs\\Python\\Python310\\lib\\site-packages\\matplotlib\\_api\\__init__.py:224\u001b[0m, in \u001b[0;36mcaching_module_getattr.<locals>.__getattr__\u001b[1;34m(name)\u001b[0m\n\u001b[0;32m    222\u001b[0m \u001b[39mif\u001b[39;00m name \u001b[39min\u001b[39;00m props:\n\u001b[0;32m    223\u001b[0m     \u001b[39mreturn\u001b[39;00m props[name]\u001b[39m.\u001b[39m\u001b[39m__get__\u001b[39m(instance)\n\u001b[1;32m--> 224\u001b[0m \u001b[39mraise\u001b[39;00m \u001b[39mAttributeError\u001b[39;00m(\n\u001b[0;32m    225\u001b[0m     \u001b[39mf\u001b[39m\u001b[39m\"\u001b[39m\u001b[39mmodule \u001b[39m\u001b[39m{\u001b[39;00m\u001b[39mcls\u001b[39m\u001b[39m.\u001b[39m\u001b[39m__module__\u001b[39m\u001b[39m!r}\u001b[39;00m\u001b[39m has no attribute \u001b[39m\u001b[39m{\u001b[39;00mname\u001b[39m!r}\u001b[39;00m\u001b[39m\"\u001b[39m)\n",
            "\u001b[1;31mAttributeError\u001b[0m: module 'matplotlib' has no attribute 'xticks'"
          ]
        },
        {
          "data": {
            "image/png": "[encoded data removed]",
            "text/plain": [
              "<Figure size 432x288 with 1 Axes>"
            ]
          },
          "metadata": {
            "needs_background": "light"
          },
          "output_type": "display_data"
        }
      ],
      "source": [
        "\n",
        "\n"
      ]
    },
    {
      "attachments": {},
      "cell_type": "markdown",
      "metadata": {},
      "source": [
        "\n",
        "param_grid = {\n",
        "    'learning_rate': [0.01, 0.05 0.1],\n",
        "    'n_estimators': [100, 200, 300],\n",
        "    'max_depth': [5,10,15]\n",
        "}\n",
        "\n",
        "grid_search = GridSearchCV(model, param_grid, cv=5)\n",
        "\n",
        "grid_search.fit(X_train, Y_train)\n",
        "\n",
        "print(grid_search.best_params_)"
      ]
    },
    {
      "cell_type": "code",
      "execution_count": 2,
      "metadata": {},
      "outputs": [],
      "source": [
        "def preprocess_and_create_options(df:pd.DataFrame):\n",
        "    \"\"\"\n",
        "    process data and return the following df's \n",
        "    normal_df - just fixed bad columns in original data\n",
        "    added_columns_df - added features based on original columns \n",
        "    normalized_df - normalized added_columns_df\n",
        "    irs_df - augment features based off of IRS data also includes added_columns_df\n",
        "    normalized_irs_df - normalized irs_df\n",
        "    \"\"\"\n",
        "    # fix bad columns\n",
        "    df['date'] = [x.split('T')[0] for x in df['date']]\n",
        "\n",
        "    normal_df = df.copy(deep=True)\n",
        "\n",
        "    # add new columns\n",
        "    df['opinion_score'] = df['view'] + df['condition'] + df['grade']\n",
        "    df['year_of_data'] = [int(x[0:4]) for x in df['date']]\n",
        "    df['month_of_data'] = [int(x[4:6]) for x in df['date']]\n",
        "    df['years_since_renovation'] = df['year_of_data'] - (df['yr_renovated'].where(df['yr_renovated'] != 0,df['yr_built']))\n",
        "\n",
        "    def calculate_distance(lat2, lon2):\n",
        "        \"\"\"\n",
        "        returns the distance of a latitude longitude pair to seattle, washington in kilometers\n",
        "        \"\"\"\n",
        "        # Coordinates of Seattle\n",
        "        lat1 = 47.6062  # Latitude of Seattle\n",
        "        lon1 = -122.3321  # Longitude of Seattle\n",
        "\n",
        "        # Convert latitude and longitude from degrees to radians\n",
        "        lat1 = math.radians(lat1)\n",
        "        lon1 = math.radians(lon1)\n",
        "        lat2 = math.radians(lat2)\n",
        "        lon2 = math.radians(lon2)\n",
        "\n",
        "        # Haversine formula\n",
        "        dlon = lon2 - lon1\n",
        "        dlat = lat2 - lat1\n",
        "        a = math.sin(dlat/2)**2 + math.cos(lat1) * math.cos(lat2) * math.sin(dlon/2)**2\n",
        "        c = 2 * math.atan2(math.sqrt(a), math.sqrt(1-a))\n",
        "        radius_of_earth = 6371  # Radius of the Earth in kilometers\n",
        "        distance = radius_of_earth * c\n",
        "\n",
        "        return distance\n",
        "\n",
        "    def convert_to_unix_time(date_string):\n",
        "        date_object = datetime.strptime(date_string, date_format)\n",
        "        unix_time = int(date_object.timestamp())\n",
        "        return unix_time\n",
        "\n",
        "    date_format = \"%Y%m%d\"\n",
        "    df['unix_time'] = df['date'].apply(convert_to_unix_time)\n",
        "\n",
        "    df['kms_to_seattle'] = df.apply(lambda row: calculate_distance(row['lat'], row['long']), axis=1)\n",
        "\n",
        "    added_columns_df = df.copy(deep=True)\n",
        "\n",
        "    normalized_df = pd.DataFrame()\n",
        "    to_normalize = ['bedrooms', 'bathrooms', 'sqft_living', 'sqft_lot',\n",
        "       'floors', 'waterfront', 'view', 'condition', 'grade', 'sqft_above',\n",
        "       'sqft_basement', \n",
        "       'sqft_living15', 'sqft_lot15', 'opinion_score', 'year_of_data',\n",
        "       'month_of_data', 'years_since_renovation',\n",
        "       'kms_to_seattle']\n",
        "\n",
        "    scaler = MinMaxScaler()\n",
        "\n",
        "    for x in df.columns:\n",
        "        if x in to_normalize:\n",
        "            normalized_df[x] = scaler.fit_transform(df[ [x] ])\n",
        "        else:\n",
        "            normalized_df[x] = df[x]\n",
        "\n",
        "    # List of attributes to merge \n",
        "    # All of these are averages for a zipcode at the year of the sale\n",
        "    # num in the name refers to number of returns with the given quality\n",
        "    # other columns are average for that zipcode of the certain thing\n",
        "    attributes = {\n",
        "        'A00100': 'gross_income',\n",
        "        'N00700': 'num_state_refunds',\n",
        "        'N00900': 'num_business_income',\n",
        "        'SCHF': 'num_farm_returns',\n",
        "        'N03300': 'num_slf_emply_rtire_pln',\n",
        "        'A18425': 'state_local_income_tax',\n",
        "        'A18450': 'state_local_gen_sales_tax',\n",
        "        'N18500': 'num_real_estate_taxes',\n",
        "        'A18500': 'real_estate_tax_amt',\n",
        "        'A19300': 'mortgage_interest_paid_amt',\n",
        "        'N07260': 'num_res_energy_tax_cred',\n",
        "        'TCE': 'num_tax_counsel_for_elderly'\n",
        "    }\n",
        "\n",
        "    # Merge the attributes from irs_2014 and irs_2015 into the df dataframe\n",
        "    for attr, name in attributes.items():\n",
        "        merged_attr = df.merge(irs_2014[['zipcode', attr]], on='zipcode', how='left')\n",
        "        merged_attr = merged_attr.merge(irs_2015[['zipcode', attr]], on='zipcode', how='left')\n",
        "        df[name] = np.where(df['year_of_data'] == 2014, merged_attr[attr + '_x'], merged_attr[attr + '_y'])\n",
        "    \n",
        "    irs_df = df.copy(deep=True)\n",
        "\n",
        "    normalized_irs_df = pd.DataFrame()\n",
        "    to_normalize = ['bedrooms', 'bathrooms', 'sqft_living', 'sqft_lot',\n",
        "       'floors', 'waterfront', 'view', 'condition', 'grade', 'sqft_above',\n",
        "       'sqft_basement', \n",
        "       'sqft_living15', 'sqft_lot15', 'opinion_score', 'year_of_data',\n",
        "       'month_of_data', 'years_since_renovation', \n",
        "       'kms_to_seattle', 'gross_income',\n",
        "       'num_state_refunds', 'num_business_income', 'num_farm_returns',\n",
        "       'num_slf_emply_rtire_pln', 'state_local_income_tax',\n",
        "       'state_local_gen_sales_tax', 'num_real_estate_taxes',\n",
        "       'real_estate_tax_amt', 'mortgage_interest_paid_amt',\n",
        "       'num_res_energy_tax_cred', 'num_tax_counsel_for_elderly']\n",
        "\n",
        "    scaler = MinMaxScaler()\n",
        "\n",
        "    for x in df.columns:\n",
        "        if x in to_normalize:\n",
        "            normalized_irs_df[x] = scaler.fit_transform(df[ [x] ])\n",
        "        else:\n",
        "            normalized_irs_df[x] = df[x]\n",
        "    \n",
        "    return normal_df, added_columns_df, normalized_df, irs_df, normalized_irs_df"
      ]
    },
    {
      "cell_type": "code",
      "execution_count": 3,
      "metadata": {},
      "outputs": [],
      "source": [
        "housing = pd.read_csv('https://raw.githubusercontent.com/byui-cse/cse450-course/master/data/housing.csv')\n",
        "holdout = pd.read_csv('https://raw.githubusercontent.com/byui-cse/cse450-course/master/data/housing_holdout_test.csv')\n",
        "holdout_mini = pd.read_csv('https://raw.githubusercontent.com/byui-cse/cse450-course/master/data/housing_holdout_test_mini.csv')\n",
        "\n",
        "def get_data_from_url(url):\n",
        "    response = requests.get(url)\n",
        "\n",
        "    # Check if the request was successful\n",
        "    if response.status_code == 200:\n",
        "        data = StringIO(response.text)\n",
        "        df = pd.read_csv(data)\n",
        "        # Now you can work with the dataframe\n",
        "        return df\n",
        "    else:\n",
        "        print(\"Error: Unable to retrieve data from the URL.\")\n",
        "        return None\n",
        "    \n",
        "global irs_2014\n",
        "global irs_2015\n",
        "\n",
        "irs_2014 = get_data_from_url('https://www.irs.gov/pub/irs-soi/14zpallnoagi.csv') \n",
        "irs_2015 = get_data_from_url('https://www.irs.gov/pub/irs-soi/15zpallnoagi.csv') \n",
        "\n",
        "irs_2014['zipcode'] = irs_2014['ZIPCODE']\n",
        "irs_2015['zipcode'] = irs_2015['ZIPCODE']"
      ]
    },
    {
      "cell_type": "code",
      "execution_count": 4,
      "metadata": {},
      "outputs": [],
      "source": [
        "normal_housing, added_columns_housing, normalized_housing, irs_housing, normalized_irs_housing = preprocess_and_create_options(housing)\n",
        "normal_holdout, added_columns_holdout, normalized_holdout, irs_holdout, normalized_irs_holdout = preprocess_and_create_options(holdout)\n",
        "normal_holdout_mini, added_columns_holdout_mini, normalized_holdout_mini, irs_holdout_mini, normalized_irs_holdout_mini = preprocess_and_create_options(holdout_mini)"
      ]
    },
    {
      "cell_type": "code",
      "execution_count": 8,
      "metadata": {},
      "outputs": [
        {
          "data": {
            "text/plain": [
              "id                               int64\n",
              "date                            object\n",
              "bedrooms                       float64\n",
              "bathrooms                      float64\n",
              "sqft_living                    float64\n",
              "sqft_lot                       float64\n",
              "floors                         float64\n",
              "waterfront                     float64\n",
              "view                           float64\n",
              "condition                      float64\n",
              "grade                          float64\n",
              "sqft_above                     float64\n",
              "sqft_basement                  float64\n",
              "yr_built                         int64\n",
              "yr_renovated                     int64\n",
              "zipcode                          int64\n",
              "lat                            float64\n",
              "long                           float64\n",
              "sqft_living15                  float64\n",
              "sqft_lot15                     float64\n",
              "price                          float64\n",
              "opinion_score                  float64\n",
              "year_of_data                   float64\n",
              "month_of_data                  float64\n",
              "years_since_renovation         float64\n",
              "unix_time                        int64\n",
              "kms_to_seattle                 float64\n",
              "gross_income                   float64\n",
              "num_state_refunds              float64\n",
              "num_business_income            float64\n",
              "num_farm_returns               float64\n",
              "num_slf_emply_rtire_pln        float64\n",
              "state_local_income_tax         float64\n",
              "state_local_gen_sales_tax      float64\n",
              "num_real_estate_taxes          float64\n",
              "real_estate_tax_amt            float64\n",
              "mortgage_interest_paid_amt     float64\n",
              "num_res_energy_tax_cred        float64\n",
              "num_tax_counsel_for_elderly    float64\n",
              "dtype: object"
            ]
          },
          "execution_count": 8,
          "metadata": {},
          "output_type": "execute_result"
        }
      ],
      "source": [
        "normalized_irs_housing.dtypes"
      ]
    }
  ],
  "metadata": {
    "colab": {
      "name": "starter_housing.ipynb",
      "provenance": []
    },
    "kernelspec": {
      "display_name": "Python 3",
      "name": "python3"
    },
    "language_info": {
      "codemirror_mode": {
        "name": "ipython",
        "version": 3
      },
      "file_extension": ".py",
      "mimetype": "text/x-python",
      "name": "python",
      "nbconvert_exporter": "python",
      "pygments_lexer": "ipython3",
      "version": "3.10.4"
    }
  },
  "nbformat": 4,
  "nbformat_minor": 0
}
