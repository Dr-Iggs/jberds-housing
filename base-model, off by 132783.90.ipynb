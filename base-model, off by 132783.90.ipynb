{
  "cells": [
    {
      "cell_type": "code",
      "execution_count": 2,
      "metadata": {
        "id": "mA0HPVmIBT4C"
      },
      "outputs": [],
      "source": [
        "import pandas as pd\n",
        "import string as str\n",
        "import seaborn as sns\n",
        "import matplotlib.pylab as plt\n",
        "import numpy as np\n",
        "import random\n",
        "\n",
        "\n",
        "housing = pd.read_csv('https://raw.githubusercontent.com/byui-cse/cse450-course/master/data/housing.csv')\n",
        "holdout = pd.read_csv('https://raw.githubusercontent.com/byui-cse/cse450-course/master/data/housing_holdout_test_mini.csv')\n",
        "from xgboost import XGBRegressor\n",
        "from sklearn.model_selection import train_test_split\n",
        "from sklearn.model_selection import GridSearchCV"
      ]
    },
    {
      "cell_type": "code",
      "execution_count": 3,
      "metadata": {
        "colab": {
          "base_uri": "https://localhost:8080/",
          "height": 351
        },
        "id": "-JGac_7xQjny",
        "outputId": "bba30e33-e789-40ee-c14d-ce0fb80bde99"
      },
      "outputs": [],
      "source": [
        "def fix_data(housing):\n",
        "  housing['date'] = housing.date.str.extract(r\"(\\d{8})\").astype(int)\n",
        "  #housing['zipcode'] = housing.zipcode.astype(str) get_dummies instead\n",
        "  housing.bedrooms = np.where(housing.bedrooms > 15,housing.bedrooms.median(),housing.bedrooms)\n",
        "  return housing\n",
        "\n",
        "housing = fix_data(housing)"
      ]
    },
    {
      "cell_type": "code",
      "execution_count": 18,
      "metadata": {
        "id": "ALLMN63FPyEQ"
      },
      "outputs": [],
      "source": [
        "\n",
        "Y = housing.price\n",
        "X = housing.drop(['price'],axis=1)\n",
        "X_train1, X_test1, Y_train, Y_test = train_test_split(X, Y, test_size=0.4, random_state=42)\n",
        "X_train = X_train1.drop('zipcode',axis=1)\n",
        "X_test = X_test1.drop('zipcode',axis=1)\n",
        "\n",
        "weights = np.where(Y_train < 400000, 2, 1)\n",
        "\n",
        "model = XGBRegressor()\n",
        "model.fit(X_train, Y_train, sample_weight=weights)\n",
        "predictions = model.predict(X_test)\n",
        "scoring = Y_test - predictions\n",
        "\n"
      ]
    },
    {
      "cell_type": "code",
      "execution_count": 19,
      "metadata": {},
      "outputs": [
        {
          "ename": "AttributeError",
          "evalue": "Can only use .str accessor with string values!",
          "output_type": "error",
          "traceback": [
            "\u001b[1;31m---------------------------------------------------------------------------\u001b[0m",
            "\u001b[1;31mAttributeError\u001b[0m                            Traceback (most recent call last)",
            "\u001b[1;32mc:\\Users\\spenc\\Documents\\GitHub\\jberds-housing\\base-model, off by 132783.90.ipynb Cell 4\u001b[0m in \u001b[0;36m<cell line: 1>\u001b[1;34m()\u001b[0m\n\u001b[1;32m----> <a href='vscode-notebook-cell:/c%3A/Users/spenc/Documents/GitHub/jberds-housing/base-model%2C%20off%20by%20132783.90.ipynb#W3sZmlsZQ%3D%3D?line=0'>1</a>\u001b[0m model\u001b[39m.\u001b[39mpredict(fix_data(holdout)\u001b[39m.\u001b[39mdrop(\u001b[39m'\u001b[39m\u001b[39mzipcode\u001b[39m\u001b[39m'\u001b[39m,axis\u001b[39m=\u001b[39m\u001b[39m1\u001b[39m))\n",
            "\u001b[1;32mc:\\Users\\spenc\\Documents\\GitHub\\jberds-housing\\base-model, off by 132783.90.ipynb Cell 4\u001b[0m in \u001b[0;36mfix_data\u001b[1;34m(housing)\u001b[0m\n\u001b[0;32m      <a href='vscode-notebook-cell:/c%3A/Users/spenc/Documents/GitHub/jberds-housing/base-model%2C%20off%20by%20132783.90.ipynb#W3sZmlsZQ%3D%3D?line=0'>1</a>\u001b[0m \u001b[39mdef\u001b[39;00m \u001b[39mfix_data\u001b[39m(housing):\n\u001b[1;32m----> <a href='vscode-notebook-cell:/c%3A/Users/spenc/Documents/GitHub/jberds-housing/base-model%2C%20off%20by%20132783.90.ipynb#W3sZmlsZQ%3D%3D?line=1'>2</a>\u001b[0m   housing[\u001b[39m'\u001b[39m\u001b[39mdate\u001b[39m\u001b[39m'\u001b[39m] \u001b[39m=\u001b[39m housing\u001b[39m.\u001b[39;49mdate\u001b[39m.\u001b[39;49mstr\u001b[39m.\u001b[39mextract(\u001b[39mr\u001b[39m\u001b[39m\"\u001b[39m\u001b[39m(\u001b[39m\u001b[39m\\\u001b[39m\u001b[39md\u001b[39m\u001b[39m{8}\u001b[39;00m\u001b[39m)\u001b[39m\u001b[39m\"\u001b[39m)\u001b[39m.\u001b[39mastype(\u001b[39mint\u001b[39m)\n\u001b[0;32m      <a href='vscode-notebook-cell:/c%3A/Users/spenc/Documents/GitHub/jberds-housing/base-model%2C%20off%20by%20132783.90.ipynb#W3sZmlsZQ%3D%3D?line=2'>3</a>\u001b[0m   \u001b[39m#housing['zipcode'] = housing.zipcode.astype(str) get_dummies instead\u001b[39;00m\n\u001b[0;32m      <a href='vscode-notebook-cell:/c%3A/Users/spenc/Documents/GitHub/jberds-housing/base-model%2C%20off%20by%20132783.90.ipynb#W3sZmlsZQ%3D%3D?line=3'>4</a>\u001b[0m   housing\u001b[39m.\u001b[39mbedrooms \u001b[39m=\u001b[39m np\u001b[39m.\u001b[39mwhere(housing\u001b[39m.\u001b[39mbedrooms \u001b[39m>\u001b[39m \u001b[39m15\u001b[39m,housing\u001b[39m.\u001b[39mbedrooms\u001b[39m.\u001b[39mmedian(),housing\u001b[39m.\u001b[39mbedrooms)\n",
            "File \u001b[1;32mc:\\Users\\spenc\\AppData\\Local\\Programs\\Python\\Python310\\lib\\site-packages\\pandas\\core\\generic.py:5575\u001b[0m, in \u001b[0;36mNDFrame.__getattr__\u001b[1;34m(self, name)\u001b[0m\n\u001b[0;32m   5568\u001b[0m \u001b[39mif\u001b[39;00m (\n\u001b[0;32m   5569\u001b[0m     name \u001b[39mnot\u001b[39;00m \u001b[39min\u001b[39;00m \u001b[39mself\u001b[39m\u001b[39m.\u001b[39m_internal_names_set\n\u001b[0;32m   5570\u001b[0m     \u001b[39mand\u001b[39;00m name \u001b[39mnot\u001b[39;00m \u001b[39min\u001b[39;00m \u001b[39mself\u001b[39m\u001b[39m.\u001b[39m_metadata\n\u001b[0;32m   5571\u001b[0m     \u001b[39mand\u001b[39;00m name \u001b[39mnot\u001b[39;00m \u001b[39min\u001b[39;00m \u001b[39mself\u001b[39m\u001b[39m.\u001b[39m_accessors\n\u001b[0;32m   5572\u001b[0m     \u001b[39mand\u001b[39;00m \u001b[39mself\u001b[39m\u001b[39m.\u001b[39m_info_axis\u001b[39m.\u001b[39m_can_hold_identifiers_and_holds_name(name)\n\u001b[0;32m   5573\u001b[0m ):\n\u001b[0;32m   5574\u001b[0m     \u001b[39mreturn\u001b[39;00m \u001b[39mself\u001b[39m[name]\n\u001b[1;32m-> 5575\u001b[0m \u001b[39mreturn\u001b[39;00m \u001b[39mobject\u001b[39;49m\u001b[39m.\u001b[39;49m\u001b[39m__getattribute__\u001b[39;49m(\u001b[39mself\u001b[39;49m, name)\n",
            "File \u001b[1;32mc:\\Users\\spenc\\AppData\\Local\\Programs\\Python\\Python310\\lib\\site-packages\\pandas\\core\\accessor.py:182\u001b[0m, in \u001b[0;36mCachedAccessor.__get__\u001b[1;34m(self, obj, cls)\u001b[0m\n\u001b[0;32m    179\u001b[0m \u001b[39mif\u001b[39;00m obj \u001b[39mis\u001b[39;00m \u001b[39mNone\u001b[39;00m:\n\u001b[0;32m    180\u001b[0m     \u001b[39m# we're accessing the attribute of the class, i.e., Dataset.geo\u001b[39;00m\n\u001b[0;32m    181\u001b[0m     \u001b[39mreturn\u001b[39;00m \u001b[39mself\u001b[39m\u001b[39m.\u001b[39m_accessor\n\u001b[1;32m--> 182\u001b[0m accessor_obj \u001b[39m=\u001b[39m \u001b[39mself\u001b[39;49m\u001b[39m.\u001b[39;49m_accessor(obj)\n\u001b[0;32m    183\u001b[0m \u001b[39m# Replace the property with the accessor object. Inspired by:\u001b[39;00m\n\u001b[0;32m    184\u001b[0m \u001b[39m# https://www.pydanny.com/cached-property.html\u001b[39;00m\n\u001b[0;32m    185\u001b[0m \u001b[39m# We need to use object.__setattr__ because we overwrite __setattr__ on\u001b[39;00m\n\u001b[0;32m    186\u001b[0m \u001b[39m# NDFrame\u001b[39;00m\n\u001b[0;32m    187\u001b[0m \u001b[39mobject\u001b[39m\u001b[39m.\u001b[39m\u001b[39m__setattr__\u001b[39m(obj, \u001b[39mself\u001b[39m\u001b[39m.\u001b[39m_name, accessor_obj)\n",
            "File \u001b[1;32mc:\\Users\\spenc\\AppData\\Local\\Programs\\Python\\Python310\\lib\\site-packages\\pandas\\core\\strings\\accessor.py:177\u001b[0m, in \u001b[0;36mStringMethods.__init__\u001b[1;34m(self, data)\u001b[0m\n\u001b[0;32m    174\u001b[0m \u001b[39mdef\u001b[39;00m \u001b[39m__init__\u001b[39m(\u001b[39mself\u001b[39m, data):\n\u001b[0;32m    175\u001b[0m     \u001b[39mfrom\u001b[39;00m \u001b[39mpandas\u001b[39;00m\u001b[39m.\u001b[39;00m\u001b[39mcore\u001b[39;00m\u001b[39m.\u001b[39;00m\u001b[39marrays\u001b[39;00m\u001b[39m.\u001b[39;00m\u001b[39mstring_\u001b[39;00m \u001b[39mimport\u001b[39;00m StringDtype\n\u001b[1;32m--> 177\u001b[0m     \u001b[39mself\u001b[39m\u001b[39m.\u001b[39m_inferred_dtype \u001b[39m=\u001b[39m \u001b[39mself\u001b[39;49m\u001b[39m.\u001b[39;49m_validate(data)\n\u001b[0;32m    178\u001b[0m     \u001b[39mself\u001b[39m\u001b[39m.\u001b[39m_is_categorical \u001b[39m=\u001b[39m is_categorical_dtype(data\u001b[39m.\u001b[39mdtype)\n\u001b[0;32m    179\u001b[0m     \u001b[39mself\u001b[39m\u001b[39m.\u001b[39m_is_string \u001b[39m=\u001b[39m \u001b[39misinstance\u001b[39m(data\u001b[39m.\u001b[39mdtype, StringDtype)\n",
            "File \u001b[1;32mc:\\Users\\spenc\\AppData\\Local\\Programs\\Python\\Python310\\lib\\site-packages\\pandas\\core\\strings\\accessor.py:231\u001b[0m, in \u001b[0;36mStringMethods._validate\u001b[1;34m(data)\u001b[0m\n\u001b[0;32m    228\u001b[0m inferred_dtype \u001b[39m=\u001b[39m lib\u001b[39m.\u001b[39minfer_dtype(values, skipna\u001b[39m=\u001b[39m\u001b[39mTrue\u001b[39;00m)\n\u001b[0;32m    230\u001b[0m \u001b[39mif\u001b[39;00m inferred_dtype \u001b[39mnot\u001b[39;00m \u001b[39min\u001b[39;00m allowed_types:\n\u001b[1;32m--> 231\u001b[0m     \u001b[39mraise\u001b[39;00m \u001b[39mAttributeError\u001b[39;00m(\u001b[39m\"\u001b[39m\u001b[39mCan only use .str accessor with string values!\u001b[39m\u001b[39m\"\u001b[39m)\n\u001b[0;32m    232\u001b[0m \u001b[39mreturn\u001b[39;00m inferred_dtype\n",
            "\u001b[1;31mAttributeError\u001b[0m: Can only use .str accessor with string values!"
          ]
        }
      ],
      "source": [
        "\n",
        "model.predict(fix_data(holdout).drop('zipcode',axis=1))\n",
        "#holdout.drop('zipcode').head()"
      ]
    },
    {
      "cell_type": "code",
      "execution_count": 21,
      "metadata": {
        "colab": {
          "base_uri": "https://localhost:8080/"
        },
        "id": "RnGBwGVZPyyh",
        "outputId": "7667ad20-be09-44aa-fd51-50ad9ebf1f0d"
      },
      "outputs": [
        {
          "data": {
            "text/plain": [
              "133544.58831747095"
            ]
          },
          "execution_count": 21,
          "metadata": {},
          "output_type": "execute_result"
        }
      ],
      "source": [
        "from sklearn.metrics import mean_squared_error\n",
        "\n",
        "mean_squared_error(Y_test, predictions, squared=False)\n"
      ]
    },
    {
      "cell_type": "code",
      "execution_count": 22,
      "metadata": {
        "colab": {
          "base_uri": "https://localhost:8080/"
        },
        "id": "CVSfaqgKPzE2",
        "outputId": "2e3c0c7b-81cc-470c-f43c-44c4142fade5"
      },
      "outputs": [
        {
          "data": {
            "text/plain": [
              "0.8738606673029911"
            ]
          },
          "execution_count": 22,
          "metadata": {},
          "output_type": "execute_result"
        }
      ],
      "source": [
        "from sklearn.metrics import r2_score\n",
        "r2_score(Y_test,predictions)"
      ]
    },
    {
      "cell_type": "code",
      "execution_count": 23,
      "metadata": {},
      "outputs": [
        {
          "name": "stdout",
          "output_type": "stream",
          "text": [
            "95% of home estimates are within 38.27 % of their most recent value\n"
          ]
        }
      ],
      "source": [
        "#(abs(Y_test-predictions)/Y_test).quantile(.95) #Average % distance from true\n",
        "#round(abs(Y_test-predictions).quantile(.95),2)\n",
        "\n",
        "print('95% of home estimates are within', round((abs(Y_test-predictions)/Y_test).quantile(.95)*100,2), \"% of their most recent value\")"
      ]
    },
    {
      "cell_type": "code",
      "execution_count": 32,
      "metadata": {},
      "outputs": [
        {
          "data": {
            "text/plain": [
              "(array([0, 1, 2, 3, 4]),\n",
              " [Text(0, 0, '98024'),\n",
              "  Text(1, 0, '98039'),\n",
              "  Text(2, 0, '98040'),\n",
              "  Text(3, 0, '98106'),\n",
              "  Text(4, 0, '98166')])"
            ]
          },
          "execution_count": 32,
          "metadata": {},
          "output_type": "execute_result"
        },
        {
          "data": {
            "image/png": "[encoded data removed]",
            "text/plain": [
              "<Figure size 432x288 with 1 Axes>"
            ]
          },
          "metadata": {
            "needs_background": "light"
          },
          "output_type": "display_data"
        }
      ],
      "source": [
        "\n",
        "equality = pd.concat([(predictions-Y_test)/Y_test*100,X_test1.zipcode],axis=1).groupby('zipcode').median().reset_index()\n",
        "equality['abs_price'] =equality.price.abs()\n",
        "equality = equality.sort_values('abs_price',ascending=False)\n",
        "# The 5 zip codes where our model most consistently underestimates \n",
        "sns.barplot(data=equality.head(),x='zipcode',y='price').set(title='OLD: Zip Codes with the Worst Performance',\n",
        "                                                            ylabel='What % Higher our Model Prices them')\n",
        "plt.xticks(rotation=45)\n"
      ]
    },
    {
      "attachments": {},
      "cell_type": "markdown",
      "metadata": {},
      "source": [
        "\n",
        "param_grid = {\n",
        "    'learning_rate': [0.01, 0.05 0.1],\n",
        "    'n_estimators': [100, 200, 300],\n",
        "    'max_depth': [5,10,15]\n",
        "}\n",
        "\n",
        "grid_search = GridSearchCV(model, param_grid, cv=5)\n",
        "\n",
        "grid_search.fit(X_train, Y_train)\n",
        "\n",
        "print(grid_search.best_params_)"
      ]
    }
  ],
  "metadata": {
    "colab": {
      "name": "starter_housing.ipynb",
      "provenance": []
    },
    "kernelspec": {
      "display_name": "Python 3",
      "name": "python3"
    },
    "language_info": {
      "codemirror_mode": {
        "name": "ipython",
        "version": 3
      },
      "file_extension": ".py",
      "mimetype": "text/x-python",
      "name": "python",
      "nbconvert_exporter": "python",
      "pygments_lexer": "ipython3",
      "version": "3.10.4"
    }
  },
  "nbformat": 4,
  "nbformat_minor": 0
}
